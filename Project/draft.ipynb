{
 "cells": [
  {
   "cell_type": "code",
   "execution_count": 1,
   "id": "initial_id",
   "metadata": {},
   "source": [
    "%matplotlib inline"
   ],
   "outputs": []
  },
  {
   "cell_type": "code",
   "execution_count": 2,
   "id": "fcaa6d58-902d-455f-9db9-2432075136df",
   "metadata": {},
   "source": [
    "import pandas as pd\n",
    "import numpy as np\n",
    "import matplotlib.pyplot as plt\n",
    "\n",
    "import re\n",
    "\n",
    "import gymnasium as gym\n",
    "from gymnasium import spaces\n",
    "\n",
    "import time"
   ],
   "outputs": []
  },
  {
   "cell_type": "code",
   "execution_count": 4,
   "id": "f2d8a7e1-9a60-4909-899b-7b183bdee076",
   "metadata": {
    "scrolled": true
   },
   "source": [
    "pd.read_csv('data/raw/d_2024_07_01.dat', encoding='Windows-1252')"
   ],
   "outputs": []
  },
  {
   "cell_type": "code",
   "execution_count": 13,
   "id": "e97b3aff-f634-4601-b627-56dd53b6e531",
   "metadata": {},
   "source": [
    "with open('data/raw/00444174.dat', 'r', encoding='Windows-1252') as f:\n",
    "    data = f.readlines()"
   ],
   "outputs": []
  },
  {
   "cell_type": "code",
   "execution_count": 27,
   "id": "22a35ef8-f2c8-4d41-bf18-3e6f159a413d",
   "metadata": {},
   "source": [
    "data[:5]"
   ],
   "outputs": []
  },
  {
   "cell_type": "code",
   "execution_count": 25,
   "id": "31493822-84f8-486e-b72a-056b4ccafef4",
   "metadata": {},
   "source": [
    "with open('data/raw/01BB6174.dat', 'r', encoding='Windows-1252') as f:\n",
    "    data2 = f.readlines()"
   ],
   "outputs": []
  },
  {
   "cell_type": "code",
   "execution_count": 26,
   "id": "c3f44db3-f860-476a-9f18-24367df10004",
   "metadata": {},
   "source": [
    "data2[1]"
   ],
   "outputs": []
  },
  {
   "cell_type": "code",
   "execution_count": 49,
   "id": "43135b73-ff7f-43d8-a0e9-366c3f460267",
   "metadata": {},
   "source": [
    "with open('data/raw/d_2024_07_01.dat', 'r', errors='replace') as f:\n",
    "    data = []\n",
    "    for i in range(100):\n",
    "        data.append(f.readline())"
   ],
   "outputs": []
  },
  {
   "cell_type": "code",
   "execution_count": 62,
   "id": "1120bc6d-f405-48af-9674-d2a365494065",
   "metadata": {},
   "source": [
    "data[10:20]"
   ],
   "outputs": []
  },
  {
   "cell_type": "code",
   "execution_count": 94,
   "id": "1199354d-f416-4b78-adec-dc2e236721ca",
   "metadata": {},
   "source": [
    "def is_valid_nmea(sentence):\n",
    "    # Basic check to see if it's a valid NMEA sentence (starts with $ and has a checksum *)\n",
    "    return sentence.startswith('$') and '*' in sentence\n",
    "\n",
    "\n",
    "def reg_match(line):\n",
    "    pattern = r'\\$(.*?)\\*'\n",
    "    matches = re.findall(pattern, line)\n",
    "\n",
    "    return matches\n",
    "\n",
    "def extract_valid_nmea_lines(file_path):\n",
    "    valid_lines = []\n",
    "    with open(file_path, 'r', errors='replace') as f:\n",
    "        for line in f:\n",
    "            line = line.strip()  # Remove any leading/trailing spaces or newlines\n",
    "            matches = reg_match(line)\n",
    "            if matches:\n",
    "                if len(valid_lines) > 0 and valid_lines[-1] == matches[0]:\n",
    "                    continue\n",
    "                if 'GPRMC' in matches[0]:\n",
    "                    valid_lines.append(matches[0])\n",
    "    return valid_lines\n",
    "\n",
    "file_path = 'data/raw/d_2024_07_01.dat'\n",
    "valid_nmea_lines = extract_valid_nmea_lines(file_path)"
   ],
   "outputs": []
  },
  {
   "cell_type": "code",
   "execution_count": 95,
   "id": "040224ce-60d9-42ce-adb5-6d562d11fbbb",
   "metadata": {
    "collapsed": true,
    "jupyter": {
     "outputs_hidden": true
    }
   },
   "source": [
    "valid_nmea_lines[:200]"
   ],
   "outputs": []
  },
  {
   "cell_type": "code",
   "execution_count": 85,
   "id": "fa0b91d7-9d91-4bf1-8e2e-2795c89c19fe",
   "metadata": {
    "collapsed": true,
    "jupyter": {
     "outputs_hidden": true
    }
   },
   "source": [
    "# Function to extract time and sensor data\n",
    "def parse_data(row):\n",
    "    # Regex to extract the time component from sensor data (GPRMC, GPGGA etc.)\n",
    "    time_pattern = re.compile(r'\\d{6}\\.\\d{2}')\n",
    "    \n",
    "    for entry in row:\n",
    "        time_match = time_pattern.search(entry)\n",
    "        if time_match:\n",
    "            time_str = time_match.group()\n",
    "            # Convert time to hh:mm:ss\n",
    "            time = f\"{time_str[:2]}:{time_str[2:4]}:{time_str[4:6]}\"\n",
    "            sensor_type, sensor_data = entry.split(',', 1)\n",
    "            return time, sensor_type, sensor_data\n",
    "    \n",
    "    return None, None, None\n",
    "\n",
    "# Initialize an empty dictionary for the table\n",
    "sensor_table = {}\n",
    "\n",
    "# Process each row of the data\n",
    "for row in valid_nmea_lines:\n",
    "    time, sensor_type, sensor_data = parse_data(row)\n",
    "    \n",
    "    if time and sensor_type:\n",
    "        if time not in sensor_table:\n",
    "            sensor_table[time] = {}\n",
    "        # Add the sensor data to the appropriate time row\n",
    "        sensor_table[time][sensor_type] = sensor_data\n",
    "\n",
    "# Convert the dictionary to a pandas DataFrame\n",
    "df = pd.DataFrame.from_dict(sensor_table, orient='index')\n",
    "\n",
    "# Show the DataFrame\n",
    "print(df)\n"
   ],
   "outputs": []
  },
  {
   "cell_type": "code",
   "execution_count": 70,
   "id": "e41a3c5f-19d8-4d2b-b604-56c1431d78c9",
   "metadata": {},
   "source": [
    "with open('data/raw/00444174.dat', 'r', errors='replace') as f:\n",
    "    data = []\n",
    "    for i in range(100):\n",
    "        data.append(f.readline())"
   ],
   "outputs": []
  },
  {
   "cell_type": "code",
   "execution_count": 82,
   "id": "9d5c8d40-39df-4b2d-9da0-732a5d2516df",
   "metadata": {
    "collapsed": true,
    "jupyter": {
     "outputs_hidden": true
    }
   },
   "source": [
    "data[:20]"
   ],
   "outputs": []
  },
  {
   "cell_type": "code",
   "execution_count": 83,
   "id": "98179282-a147-48bf-8c2a-366bbc78af0a",
   "metadata": {
    "collapsed": true,
    "jupyter": {
     "outputs_hidden": true
    }
   },
   "source": [
    "data[20:40]"
   ],
   "outputs": []
  },
  {
   "cell_type": "code",
   "execution_count": 103,
   "id": "4821a54c-0aff-4ea2-a62a-ba141457bf72",
   "metadata": {},
   "source": [
    "log = pd.read_csv('data/raw/LOG 30.CSV', encoding='Windows-1252')"
   ],
   "outputs": []
  },
  {
   "cell_type": "code",
   "execution_count": 104,
   "id": "ce1c01a3-be02-4bab-8243-3faa45545458",
   "metadata": {},
   "source": [
    "log['Target Name'].value_counts()"
   ],
   "outputs": []
  },
  {
   "cell_type": "code",
   "execution_count": 105,
   "id": "15e08b33-5ba3-42d5-85f4-2cc5e0d53c5e",
   "metadata": {},
   "source": [
    "log['Type'].value_counts()"
   ],
   "outputs": []
  },
  {
   "cell_type": "code",
   "execution_count": 110,
   "id": "7418ec0a-5453-4a64-bdb0-57c407111110",
   "metadata": {},
   "source": [
    "log[log['Type'] == 'ENC Data']['Message']"
   ],
   "outputs": []
  },
  {
   "cell_type": "code",
   "execution_count": 271,
   "id": "93d9745a-ae79-4f26-a632-810363cc3ad7",
   "metadata": {},
   "source": [
    "log = pd.read_csv('data/raw/LOG current.CSV', encoding='Windows-1252')"
   ],
   "outputs": []
  },
  {
   "cell_type": "code",
   "execution_count": 272,
   "id": "d17d4d76-1eef-4b79-a988-d5dadaa6d3df",
   "metadata": {
    "scrolled": true
   },
   "source": [
    "log"
   ],
   "outputs": []
  },
  {
   "cell_type": "code",
   "execution_count": 273,
   "id": "6fdbcbf4-15ed-4917-8a1e-c32136313a26",
   "metadata": {},
   "source": [
    "log = log.drop(columns=['MMSI', 'Type', 'Target Name'])"
   ],
   "outputs": []
  },
  {
   "cell_type": "code",
   "execution_count": 274,
   "id": "6d480c71-7b85-4f7c-a12c-8124ab3ccc13",
   "metadata": {},
   "source": [
    "log.columns = ['date', 'time', 'msg']"
   ],
   "outputs": []
  },
  {
   "cell_type": "code",
   "execution_count": 275,
   "id": "75573641-d956-4ae5-912e-59099bc56c90",
   "metadata": {},
   "source": [
    "log.loc[0, 'msg']"
   ],
   "outputs": []
  },
  {
   "cell_type": "code",
   "execution_count": 276,
   "id": "4fe7a75e-0277-49ca-a8c0-8b8925c28ff2",
   "metadata": {},
   "source": [
    "log[log.msg == \" Manual Position Fix Added:  09°34.091'N  086°30.701'W\"]"
   ],
   "outputs": []
  },
  {
   "cell_type": "code",
   "execution_count": 277,
   "id": "f60855cd-20ce-4816-ae73-31f564084e2a",
   "metadata": {},
   "source": [
    "'Manual' in log.msg.str.strip()"
   ],
   "outputs": []
  },
  {
   "cell_type": "code",
   "execution_count": 278,
   "id": "d14b1c75-cd58-48b8-8f17-3a681c0d4240",
   "metadata": {},
   "source": [
    "log = log[~log['msg'].str.contains('Manual', case=False, na=False)]"
   ],
   "outputs": []
  },
  {
   "cell_type": "code",
   "execution_count": 279,
   "id": "d76a9bb8-69e3-44fe-b51f-0a1b59ee673f",
   "metadata": {},
   "source": [
    "log = log.reset_index(drop=True)"
   ],
   "outputs": []
  },
  {
   "cell_type": "code",
   "execution_count": 281,
   "id": "c93da59e-baeb-407f-93f0-a370aa0ea5d4",
   "metadata": {},
   "source": [
    "line = log.msg[0]"
   ],
   "outputs": []
  },
  {
   "cell_type": "code",
   "execution_count": 282,
   "id": "a3f6c953-5c5b-4bb1-9caa-9924e4f25fa1",
   "metadata": {},
   "source": [
    "line = line.split(', ')"
   ],
   "outputs": []
  },
  {
   "cell_type": "code",
   "execution_count": 283,
   "id": "ac66aa15-2b20-46f7-ae6c-bae0d6db197d",
   "metadata": {},
   "source": [
    "for i in range(len(line)):\n",
    "    print(f'{i} - {line[i]}')"
   ],
   "outputs": []
  },
  {
   "cell_type": "code",
   "execution_count": 284,
   "id": "eac53c9c-d549-4d2b-afe8-18d14c0b2932",
   "metadata": {},
   "source": [
    "lat = line[0].split(': ')[1]\n",
    "lon = line[1]\n",
    "sog = line[2].split(': ')[1].split(' ')[0]\n",
    "cog = line[3].split(': ')[1][:-1]\n",
    "hdg = line[4].split(': ')[1].strip()[:-1]\n",
    "wnd_dir = line[5].split(': ')[1][:-1]\n",
    "wnd_spd = line[6].split(' ')[0]"
   ],
   "outputs": []
  },
  {
   "cell_type": "code",
   "execution_count": 285,
   "id": "884c8bba-2fbe-46eb-bcc0-44ff30159629",
   "metadata": {},
   "source": [
    "deg, min, dir = lat.split(' ')"
   ],
   "outputs": []
  },
  {
   "cell_type": "code",
   "execution_count": 286,
   "id": "214de3c7-99f3-4e4c-aae0-529f5fe8001d",
   "metadata": {},
   "source": [
    "deg = deg[:-1]"
   ],
   "outputs": []
  },
  {
   "cell_type": "code",
   "execution_count": 287,
   "id": "2c0cc908-cc75-467f-9007-bb651611b4a3",
   "metadata": {},
   "source": [
    "min = min[:-1]"
   ],
   "outputs": []
  },
  {
   "cell_type": "code",
   "execution_count": 288,
   "id": "c82e6cdc-ed06-46fe-9785-a4b7973fd95d",
   "metadata": {},
   "source": [
    "min"
   ],
   "outputs": []
  },
  {
   "cell_type": "code",
   "execution_count": 289,
   "id": "1e27ebc3-ba10-48b6-8ccc-a262094127da",
   "metadata": {},
   "source": [
    "float(deg)"
   ],
   "outputs": []
  },
  {
   "cell_type": "code",
   "execution_count": 344,
   "id": "1c8562f0-54ec-43dc-afe3-84840b5e824c",
   "metadata": {},
   "source": [
    "def extract_data_from_msg(line):\n",
    "    try:\n",
    "        line = line.split(', ')\n",
    "        \n",
    "        lat = line[0].split(': ')[1]\n",
    "        lon = line[1]\n",
    "        sog = line[2].split(': ')[1].split(' ')[0]\n",
    "        cog = line[3].split(': ')[1][:-1]\n",
    "        hdg = line[4].split(': ')[1].strip()[:-1]\n",
    "        wnd_dir = line[5].split(': ')[1][:-1]\n",
    "        wnd_spd = line[6].split(' ')[0]\n",
    "    \n",
    "        lat = convert_coordinates(lat)\n",
    "        lon = convert_coordinates(lon)\n",
    "    except IndexError:\n",
    "        print(line)\n",
    "        return [None] * 7\n",
    "\n",
    "    return lat, lon, sog, cog, hdg, wnd_dir, wnd_spd\n",
    "\n",
    "def convert_coordinates(coordinates):\n",
    "    deg, min, dir = coordinates.split(' ')\n",
    "    deg = deg[:-1]\n",
    "    min = min[:-1]\n",
    "\n",
    "    if dir == 'N' or dir == 'E':\n",
    "        dir = 1\n",
    "    else:\n",
    "        dir = -1\n",
    "    \n",
    "    return np.round((float(deg) + float(min) / 60) * dir, 4)    \n",
    "\n",
    "def drop_rows(df, msgs=['Manual', 'System', 'Total']):\n",
    "    for msg in msgs:\n",
    "        df = df[~df['msg'].str.contains(msg, case=False, na=False)]\n",
    "    return df\n",
    "\n",
    "def drop_columns(df, columns=['MMSI', 'Type', 'Target Name']):\n",
    "    return df.drop(columns=columns)\n",
    "\n",
    "def rename_columns(df, names=['date', 'time', 'msg']):\n",
    "    df.columns = names\n",
    "    return df\n",
    "\n",
    "def clean_ship_log(path):\n",
    "    df = pd.read_csv(path, encoding='Windows-1252')\n",
    "    df = drop_columns(df)\n",
    "    df = rename_columns(df)\n",
    "    df = drop_rows(df)\n",
    "    df[['lat', 'lon', 'sog', 'cog', 'hdg', 'wnd_dir', 'wnd_spd']] = df.msg.apply(lambda x: pd.Series(extract_data_from_msg(x)))\n",
    "    df.date = pd.to_datetime(df.date)\n",
    "    df.time = pd.to_datetime(df.time, format='%H:%M:%S').dt.time\n",
    "    df = df.reset_index(drop=True)\n",
    "    df = drop_columns(df, 'msg')\n",
    "    return df\n",
    "    "
   ],
   "outputs": []
  },
  {
   "cell_type": "code",
   "execution_count": 291,
   "id": "46358007-adcb-4368-ab74-cfc0d90e7107",
   "metadata": {},
   "source": [
    "line_2 = log.msg[1]"
   ],
   "outputs": []
  },
  {
   "cell_type": "code",
   "execution_count": 292,
   "id": "bac3a03b-e48a-4a25-bec3-b7cd5fd6da4e",
   "metadata": {},
   "source": [
    "print(extract_data_from_msg(line_2))"
   ],
   "outputs": []
  },
  {
   "cell_type": "code",
   "execution_count": 299,
   "id": "d8cc7307-adcc-40e1-ae41-113c0b445147",
   "metadata": {},
   "source": [
    "log_50 = log[:50]"
   ],
   "outputs": []
  },
  {
   "cell_type": "code",
   "execution_count": 300,
   "id": "c8a286ed-970b-4718-ac36-cdc2604851ee",
   "metadata": {
    "collapsed": true,
    "jupyter": {
     "outputs_hidden": true
    }
   },
   "source": [
    "log_50.loc[:, ['lat', 'lon', 'sog', 'cog', 'hdg', 'wnd_dir', 'wnd_spd']] = log_50.msg.apply(lambda x: pd.Series(extract_data_from_msg(x)))"
   ],
   "outputs": []
  },
  {
   "cell_type": "code",
   "execution_count": 301,
   "id": "d331ecc1-9b0e-4dc5-89b0-54c288eedf10",
   "metadata": {},
   "source": [
    "log.msg.apply(lambda x: pd.Series(extract_data_from_msg(x)))"
   ],
   "outputs": []
  },
  {
   "cell_type": "code",
   "execution_count": 304,
   "id": "e19a8051-a635-4079-85e0-fa6a2e52e15e",
   "metadata": {},
   "source": [
    "log[log.msg.str.contains('System Turned On')]"
   ],
   "outputs": []
  },
  {
   "cell_type": "code",
   "execution_count": null,
   "id": "a813fe76-2467-4a80-aec5-f3e12e3a36a5",
   "metadata": {},
   "source": [
    "log[log.msg.str.contains('Total Distance Passed')]"
   ],
   "outputs": []
  },
  {
   "cell_type": "code",
   "execution_count": 305,
   "id": "fcb93a7b-ea2d-433a-a711-7e5bf7b05e06",
   "metadata": {},
   "source": [
    "log = log[~log['msg'].str.contains('Total Distance Passed', case=False, na=False)]"
   ],
   "outputs": []
  },
  {
   "cell_type": "code",
   "execution_count": 307,
   "id": "ccc7a0b1-b841-49c1-90ae-bf6afbd67ea5",
   "metadata": {},
   "source": [
    "log = log[~log['msg'].str.contains('System Turned On', case=False, na=False)]"
   ],
   "outputs": []
  },
  {
   "cell_type": "code",
   "execution_count": 308,
   "id": "5cac5e9a-86c9-4226-b678-2602dc541261",
   "metadata": {},
   "source": [
    "log.reset_index(inplace=True, drop=True)"
   ],
   "outputs": []
  },
  {
   "cell_type": "code",
   "execution_count": 309,
   "id": "80e60c8c-af52-4266-92ad-8893e5a1a9fc",
   "metadata": {},
   "source": [
    "log"
   ],
   "outputs": []
  },
  {
   "cell_type": "code",
   "execution_count": 322,
   "id": "f6b2000f-5e0c-41ed-839f-686ed6620d5b",
   "metadata": {},
   "source": [
    "log.loc[:, ['lat', 'lon', 'sog', 'cog', 'hdg', 'wnd_dir', 'wnd_spd']] = log.msg.apply(lambda x: pd.Series(extract_data_from_msg(x)))"
   ],
   "outputs": []
  },
  {
   "cell_type": "code",
   "execution_count": 313,
   "id": "31ccfa00-582e-4788-911e-f3766450a89e",
   "metadata": {},
   "source": [
    "log = log.drop(columns='msg')"
   ],
   "outputs": []
  },
  {
   "cell_type": "code",
   "execution_count": 314,
   "id": "beaf90d4-c185-4392-9d78-e09fd44ef1d7",
   "metadata": {},
   "source": [
    "log"
   ],
   "outputs": []
  },
  {
   "cell_type": "code",
   "execution_count": 317,
   "id": "3954baea-31fb-4539-8f1b-211f4f75a69a",
   "metadata": {},
   "source": [
    "log.date = pd.to_datetime(log.date)"
   ],
   "outputs": []
  },
  {
   "cell_type": "code",
   "execution_count": 318,
   "id": "7cbd6441-1af3-4c49-8d8c-bb0bacf12b15",
   "metadata": {},
   "source": [
    "pd.to_datetime(log.time)"
   ],
   "outputs": []
  },
  {
   "cell_type": "code",
   "execution_count": 319,
   "id": "ea56be30-e368-4faa-87e6-a5604dca2244",
   "metadata": {},
   "source": [
    "log"
   ],
   "outputs": []
  },
  {
   "cell_type": "code",
   "execution_count": 324,
   "id": "be57723b-1bee-43a3-8ebe-0467e1d4cd7c",
   "metadata": {},
   "source": [
    "log = pd.read_csv('data/raw/LOG current.CSV', encoding='Windows-1252')"
   ],
   "outputs": []
  },
  {
   "cell_type": "code",
   "execution_count": 345,
   "id": "0dc256d1-b7a6-4898-93cf-34d581dc086a",
   "metadata": {},
   "source": [
    "df = clean_ship_log('data/raw/LOG current.CSV')"
   ],
   "outputs": []
  },
  {
   "cell_type": "code",
   "execution_count": 348,
   "id": "4397d142-42b5-4008-8a5c-0f3174cfa04d",
   "metadata": {},
   "source": [
    "df"
   ],
   "outputs": []
  },
  {
   "cell_type": "code",
   "execution_count": 16,
   "id": "72edf3ad-37e4-46c1-a236-5fbf30a7227d",
   "metadata": {},
   "source": [
    "def mercator_sailing(lat1, lon1, lat2, lon2):\n",
    "    # Convert degrees to radians\n",
    "    lat1 = np.radians(lat1)\n",
    "    lat2 = np.radians(lat2)\n",
    "    lon1 = np.radians(lon1)\n",
    "    lon2 = np.radians(lon2)\n",
    "    \n",
    "    # Mercator latitudes\n",
    "    def mercator_latitude(lat):\n",
    "        return np.log(np.tan(np.pi / 4 + lat / 2))\n",
    "    \n",
    "    phi_m1 = mercator_latitude(lat1)\n",
    "    phi_m2 = mercator_latitude(lat2)\n",
    "    \n",
    "    # Difference in longitudes\n",
    "    delta_lambda = lon2 - lon1\n",
    "    \n",
    "    # Calculate distance using the Mercator Sailing formula\n",
    "    D = np.sqrt((delta_lambda * np.cos(lat1))**2 + (phi_m2 - phi_m1)**2) * 3440.065\n",
    "    return D\n",
    "\n",
    "def bearing_to_waypoint(lat1, lon1, lat2, lon2):\n",
    "    # Convert degrees to radians\n",
    "    lat1 = np.radians(lat1)\n",
    "    lat2 = np.radians(lat2)\n",
    "    lon1 = np.radians(lon1)\n",
    "    lon2 = np.radians(lon2)\n",
    "    \n",
    "    # Difference in longitude\n",
    "    delta_lambda = lon2 - lon1\n",
    "    \n",
    "    # Mercator latitudes\n",
    "    phi1 = np.log(np.tan(np.pi / 4 + lat1 / 2))\n",
    "    phi2 = np.log(np.tan(np.pi / 4 + lat2 / 2))\n",
    "    \n",
    "    # Calculate the bearing using atan2\n",
    "    bearing_rad = np.arctan2(delta_lambda, (phi2 - phi1))\n",
    "    \n",
    "    # Convert from radians to degrees\n",
    "    bearing_deg = np.degrees(bearing_rad)\n",
    "    \n",
    "    # Normalize to 0-360 degrees\n",
    "    bearing_deg = (bearing_deg + 360) % 360\n",
    "    \n",
    "    return bearing_deg\n",
    "\n",
    "def mercator_sailing_future_position(lat, lon, speed, bearing, time_interval):\n",
    "    \"\"\"\n",
    "    Calculate future position given current lat, lon, speed (knots), bearing, and time interval (hours).\n",
    "    \n",
    "    Parameters:\n",
    "    - lat (float): Current latitude in degrees\n",
    "    - lon (float): Current longitude in degrees\n",
    "    - speed (float): Speed in knots (nautical miles per hour)\n",
    "    - bearing (float): Bearing in degrees (from north)\n",
    "    - time_interval (float): Time interval in hours\n",
    "    \n",
    "    Returns:\n",
    "    - new_lat (float): New latitude in degrees\n",
    "    - new_lon (float): New longitude in degrees\n",
    "    \"\"\"\n",
    "    # Convert degrees to radians\n",
    "    lat = np.radians(lat)\n",
    "    lon = np.radians(lon)\n",
    "    bearing = np.radians(bearing)\n",
    "\n",
    "    # Earth radius in nautical miles\n",
    "    R = 3440.065\n",
    "    \n",
    "    # Distance traveled in nautical miles\n",
    "    distance = speed * time_interval\n",
    "\n",
    "    # Delta latitude (in radians)\n",
    "    delta_lat = distance * np.cos(bearing) / R\n",
    "    \n",
    "    # Update latitude\n",
    "    new_lat = lat + delta_lat\n",
    "    \n",
    "    # Mercator latitudes for loxodromic calculation\n",
    "    def mercator_lat(lat):\n",
    "        return np.log(np.tan(np.pi / 4 + lat / 2))\n",
    "\n",
    "    phi1 = mercator_lat(lat)\n",
    "    phi2 = mercator_lat(new_lat)\n",
    "    \n",
    "    # Delta longitude (in radians)\n",
    "    if np.cos(new_lat) != 0:\n",
    "        delta_lon = (distance * np.sin(bearing)) / (R * np.cos(new_lat))\n",
    "    else:\n",
    "        delta_lon = 0\n",
    "    \n",
    "    # Update longitude\n",
    "    new_lon = lon + delta_lon\n",
    "    \n",
    "    # Convert radians back to degrees\n",
    "    new_lat = np.degrees(new_lat)\n",
    "    new_lon = np.degrees(new_lon)\n",
    "    \n",
    "    return np.array([new_lat, new_lon])"
   ],
   "outputs": []
  },
  {
   "cell_type": "code",
   "execution_count": 34,
   "id": "baeab529-bb0d-4835-a4f0-aa68f1a284b9",
   "metadata": {},
   "source": [
    "# Example usage:\n",
    "lat1 = 20.0   # Latitude of current position\n",
    "lon1 = 55.4  # Longitude of current position\n",
    "lat2 = 0.0   # Latitude of waypoint\n",
    "lon2 = 55.4  # Longitude of waypoint\n",
    "\n",
    "distance = mercator_sailing(lat1, lon1, lat2, lon2)\n",
    "print(f\"Distance to waypoint: {distance:.2f} nautical miles\")\n",
    "bearing = bearing_to_waypoint(lat1, lon1, lat2, lon2)\n",
    "print(f\"Bearing to waypoint: {bearing:.2f} deg\")\n",
    "new_lat, new_lon = mercator_sailing_future_position(lat1, lon1, speed=14, bearing=180, time_interval=90)\n",
    "print(f\"New position: Latitude {new_lat:.5f}, Longitude {new_lon:.5f}\")"
   ],
   "outputs": []
  },
  {
   "cell_type": "code",
   "execution_count": 59,
   "id": "a300ca56-1530-4ac4-9e5f-ebd8e7e620d9",
   "metadata": {},
   "source": [
    "class ShipEnv(gym.Env):\n",
    "    def __init__(self, initial_position, waypoint):\n",
    "        super(ShipEnv, self).__init__()\n",
    "        self.action_space = spaces.Discrete(4)  # Simplified: 0 = turn left, 1 = turn right, 2 = speed up, 3 = slow down\n",
    "        self.observation_space = spaces.Box(low=-np.inf, high=np.inf, shape=(4,), dtype=np.float32)  # Simplified state\n",
    "        \n",
    "        self.initial_position = np.array(initial_position)\n",
    "        self.waypoint = np.array(waypoint)\n",
    "        self.current_position = np.copy(self.initial_position)\n",
    "        self.speed = 14.4  # Example starting speed\n",
    "        self.heading = 295.0  # Example starting heading\n",
    "        self.done = False\n",
    "\n",
    "        # Define discretization bins for each state component\n",
    "        self.lat_bins = np.linspace(9.0, 11.0, 10)  # Example latitude bins\n",
    "        self.lon_bins = np.linspace(-87.0, -85.0, 10)  # Example longitude bins\n",
    "        self.speed_bins = np.linspace(10, 20, 5)  # Example speed bins\n",
    "        self.heading_bins = np.linspace(0, 360, 8)  # Example heading bins\n",
    "\n",
    "    def discretize_state(self, state):\n",
    "        lat, lon, speed, heading = state\n",
    "        lat_idx = np.digitize(lat, self.lat_bins) - 1  # Bin index for latitude\n",
    "        lon_idx = np.digitize(lon, self.lon_bins) - 1  # Bin index for longitude\n",
    "        speed_idx = np.digitize(speed, self.speed_bins) - 1  # Bin index for speed\n",
    "        heading_idx = np.digitize(heading, self.heading_bins) - 1  # Bin index for heading\n",
    "        return lat_idx, lon_idx, speed_idx, heading_idx\n",
    "\n",
    "    def step(self, action):\n",
    "        # Perform action: adjust heading or speed\n",
    "        if action == 0:  # Turn left\n",
    "            self.heading -= 5\n",
    "        elif action == 1:  # Turn right\n",
    "            self.heading += 5\n",
    "        elif action == 2:  # Speed up\n",
    "            self.speed += 0.5\n",
    "        elif action == 3:  # Slow down\n",
    "            self.speed -= 0.5\n",
    "\n",
    "        # Calculate new position based on speed and heading (simplified movement update)\n",
    "        self.current_position = update_position(self.current_position, self.heading, self.speed)\n",
    "        \n",
    "        # Calculate the distance to the waypoint\n",
    "        distance_to_waypoint = calculate_distance(self.current_position, self.waypoint)\n",
    "        reward = -distance_to_waypoint  # The closer to the waypoint, the better\n",
    "\n",
    "        # Check if we are close enough to the waypoint\n",
    "        self.done = distance_to_waypoint < 0.01  # Done if close enough\n",
    "\n",
    "        # Simplified state representation\n",
    "        state = np.array([self.current_position[0], self.current_position[1], self.speed, self.heading])\n",
    "        discrete_state = self.discretize_state(state)\n",
    "        return discrete_state, reward, self.done, {}\n",
    "\n",
    "    def reset(self):\n",
    "        # Reset the environment for a new episode\n",
    "        self.current_position = np.copy(self.initial_position)\n",
    "        self.speed = 14.4\n",
    "        self.heading = 295.0\n",
    "        self.done = False\n",
    "        state = np.array([self.current_position[0], self.current_position[1], self.speed, self.heading])\n",
    "        return self.discretize_state(state)\n",
    "\n",
    "def calculate_distance(current_position, waypoint):\n",
    "    lat1, lon1 = current_position\n",
    "    lat2, lon2 = waypoint\n",
    "    \n",
    "    return mercator_sailing(lat1, lon1, lat2, lon2)\n",
    "\n",
    "def update_position(current_position, heading, speed):\n",
    "    lat1, lon1 = current_position\n",
    "    return mercator_sailing_future_position(lat1, lon1, speed=speed, bearing=heading, time_interval=1)\n",
    "\n",
    "# Q-learning implementation\n",
    "def q_learning(env, num_episodes=1000, alpha=0.1, gamma=0.99, epsilon=0.1):\n",
    "    # Create Q-table with discrete state space (size based on bins)\n",
    "    q_table = np.zeros((10, 10, 5, 8, env.action_space.n))  # Size of the discretized space + actions\n",
    "\n",
    "    for episode in range(num_episodes):\n",
    "        state = env.reset()\n",
    "        done = False\n",
    "\n",
    "        while not done:\n",
    "            # Epsilon-greedy action selection\n",
    "            if np.random.rand() < epsilon:\n",
    "                action = env.action_space.sample()  # Random action\n",
    "            else:\n",
    "                action = np.argmax(q_table[state])  # Best action from Q-table\n",
    "\n",
    "            # Take the action\n",
    "            next_state, reward, done, _ = env.step(action)\n",
    "\n",
    "            # Q-learning update\n",
    "            best_next_action = np.argmax(q_table[next_state])\n",
    "            q_table[state][action] += alpha * (reward + gamma * q_table[next_state][best_next_action] - q_table[state][action])\n",
    "\n",
    "            state = next_state\n",
    "\n",
    "        if episode % 100 == 0:\n",
    "            print(f\"Episode {episode}, Reward: {reward}\")\n",
    "\n",
    "    return q_table\n"
   ],
   "outputs": []
  },
  {
   "cell_type": "code",
   "execution_count": null,
   "id": "f41c4e18-c1ef-4def-aa53-373f73e93f1d",
   "metadata": {},
   "source": [
    "# Running the environment\n",
    "env = ShipEnv([0.0, 0.0], [0.5, 0.0])  # Example starting position and waypoint\n",
    "q_table = q_learning(env)\n",
    "\n",
    "# Test the trained Q-table\n",
    "state = env.reset()\n",
    "done = False\n",
    "total_reward = 0\n",
    "while not done:\n",
    "    action = np.argmax(q_table[state])\n",
    "    print(action)\n",
    "    state, reward, done, _ = env.step(action)\n",
    "    print(state, reward, done)\n",
    "    total_reward += reward\n",
    "\n",
    "print(f\"Total reward after training: {total_reward}\")\n"
   ],
   "outputs": []
  },
  {
   "cell_type": "code",
   "execution_count": 51,
   "id": "2c3eb519-7ab7-455d-b179-4d48b54176ab",
   "metadata": {},
   "source": [
    "env = ShipEnv([0.0, 0.0], [0.5, 0.0])"
   ],
   "outputs": []
  },
  {
   "cell_type": "code",
   "execution_count": 54,
   "id": "15f10f91-5aac-4519-80eb-19b0b1ad4dd1",
   "metadata": {
    "collapsed": true,
    "jupyter": {
     "outputs_hidden": true
    }
   },
   "source": [
    "q_learning(env)"
   ],
   "outputs": []
  },
  {
   "cell_type": "code",
   "execution_count": 58,
   "id": "d35e409c-9db0-4b11-8f74-7a65c1b6a322",
   "metadata": {
    "jupyter": {
     "source_hidden": true
    }
   },
   "source": [
    "class ShipEnv(gym.Env):\n",
    "    def __init__(self, initial_position, waypoint, speed, heading):\n",
    "        super(ShipEnv, self).__init__()\n",
    "        # Action space: [adjust_heading, adjust_speed]\n",
    "        self.action_space = spaces.Box(low=-1, high=1, shape=(2,), dtype=np.float32)\n",
    "        # State space: [lat, lon, speed, heading, distance_to_waypoint, bearing_to_waypoint]\n",
    "        self.observation_space = spaces.Box(low=-np.inf, high=np.inf, shape=(6,), dtype=np.float32)\n",
    "        self.current_position = np.array(initial_position)\n",
    "        self.waypoint = np.array(waypoint)\n",
    "        self.speed = speed \n",
    "        self.heading = heading\n",
    "\n",
    "    def step(self, action):\n",
    "        # Adjust heading and speed based on action\n",
    "        self.heading += action[0] * 10  # Adjust heading\n",
    "        self.speed += action[1] * 0.5  # Adjust speed\n",
    "\n",
    "        # Calculate new position based on speed and heading (simple simulation)\n",
    "        self.current_position = update_position(self.current_position, self.heading, self.speed)\n",
    "\n",
    "        # Calculate distance and bearing to waypoint\n",
    "        distance = calculate_distance(self.current_position, self.waypoint)\n",
    "        bearing = calculate_bearing(self.current_position, self.waypoint)\n",
    "\n",
    "        # Define reward: positive reward for reducing distance\n",
    "        reward = -distance  # Reward is negative distance to the waypoint\n",
    "\n",
    "        done = distance < 0.01  # Episode ends if the distance is below a threshold\n",
    "        state = np.array([*self.current_position, self.speed, self.heading, distance, bearing])\n",
    "\n",
    "        return state, reward, done, {}\n",
    "\n",
    "    def reset(self):\n",
    "        # Reset the environment for a new episode\n",
    "        self.current_position = np.array([0.0, 0.0])  # Initial position\n",
    "        self.speed = 14.4\n",
    "        self.heading = 295.0\n",
    "        distance = calculate_distance(self.current_position, self.waypoint)\n",
    "        bearing = calculate_bearing(self.current_position, self.waypoint)\n",
    "        return np.array([*self.current_position, self.speed, self.heading, distance, bearing])\n",
    "\n",
    "def calculate_distance(current_position, waypoint):\n",
    "    return mercator_sailing(*current_position, *waypoint)\n",
    "\n",
    "def calculate_bearing(current_position, waypoint):\n",
    "    return bearing_to_waypoint(*current_position, *waypoint)\n",
    "\n",
    "def update_position(current_position, heading, speed):\n",
    "    return mercator_sailing_future_position(*current_position, heading, speed, time_interval=1/60)"
   ],
   "outputs": []
  },
  {
   "cell_type": "code",
   "execution_count": 94,
   "id": "de50c2fa-eb13-4db8-8140-8f99129615a5",
   "metadata": {},
   "source": [
    "def mercator_latitude(lat):\n",
    "    return np.log(np.tan(np.pi / 4 + lat / 2))\n",
    "\n",
    "\n",
    "def mercator_conversion(lat1, lon1, lat2, lon2):\n",
    "    # Convert degrees to radians\n",
    "    lat1 = np.radians(lat1)\n",
    "    lat2 = np.radians(lat2)\n",
    "    lon1 = np.radians(lon1)\n",
    "    lon2 = np.radians(lon2)\n",
    "\n",
    "    delta_phi = mercator_latitude(lat2) - mercator_latitude(lat1)\n",
    "\n",
    "    # Difference in longitudes\n",
    "    delta_lambda = lon2 - lon1\n",
    "\n",
    "    return delta_phi, delta_lambda\n",
    "\n",
    "\n",
    "def rumbline_distance(lat1, lon1, lat2, lon2):\n",
    "    delta_phi, delta_lambda = mercator_conversion(lat1, lon1, lat2, lon2)\n",
    "\n",
    "    # Calculate distance using the Mercator Sailing formula\n",
    "    return np.sqrt((delta_lambda * np.cos(np.radians(lat1))) ** 2 + delta_phi ** 2) * 3440.065\n",
    "\n",
    "\n",
    "def bearing_to_waypoint(lat1, lon1, lat2, lon2):\n",
    "    delta_phi, delta_lambda = mercator_conversion(lat1, lon1, lat2, lon2)\n",
    "\n",
    "    # Calculate the bearing using atan2\n",
    "    bearing_rad = np.arctan2(delta_lambda, delta_phi)\n",
    "\n",
    "    # Convert from radians to degrees\n",
    "    bearing_deg = np.degrees(bearing_rad)\n",
    "\n",
    "    # Normalize to 0-360 degrees\n",
    "    bearing_deg = (bearing_deg + 360) % 360\n",
    "\n",
    "    return bearing_deg\n",
    "\n",
    "\n",
    "def mercator_sailing_future_position(lat, lon, speed, bearing, time_interval):\n",
    "    \"\"\"\n",
    "    Calculate future position given current lat, lon, speed (knots), bearing, and time interval (hours).\n",
    "\n",
    "    Parameters:\n",
    "    - lat (float): Current latitude in degrees\n",
    "    - lon (float): Current longitude in degrees\n",
    "    - speed (float): Speed in knots (nautical miles per hour)\n",
    "    - bearing (float): Bearing in degrees (from north)\n",
    "    - time_interval (float): Time interval in hours\n",
    "\n",
    "    Returns:\n",
    "    - new_lat (float): New latitude in degrees\n",
    "    - new_lon (float): New longitude in degrees\n",
    "    \"\"\"\n",
    "    # Convert degrees to radians\n",
    "    lat = np.radians(lat)\n",
    "    lon = np.radians(lon)\n",
    "    bearing = np.radians(bearing)\n",
    "\n",
    "    # Earth radius in nautical miles\n",
    "    R = 3440.065\n",
    "\n",
    "    # Distance traveled in nautical miles\n",
    "    distance = speed * time_interval\n",
    "\n",
    "    # Delta latitude (in radians)\n",
    "    delta_lat = distance * np.cos(bearing) / R\n",
    "\n",
    "    # Update latitude\n",
    "    new_lat = lat + delta_lat\n",
    "\n",
    "    # Delta longitude (in radians)\n",
    "    if np.cos(new_lat) != 0:\n",
    "        delta_lon = (distance * np.sin(bearing)) / (R * np.cos(new_lat))\n",
    "    else:\n",
    "        delta_lon = 0\n",
    "\n",
    "    # Update longitude\n",
    "    new_lon = lon + delta_lon\n",
    "\n",
    "    # Convert radians back to degrees\n",
    "    new_lat = np.degrees(new_lat)\n",
    "    new_lon = np.degrees(new_lon)\n",
    "\n",
    "    return np.array([new_lat, new_lon])\n",
    "\n",
    "class ShipEnv(gym.Env):\n",
    "    def __init__(self, start_wp, tgt_wp, initial_position, initial_heading):\n",
    "        super(ShipEnv, self).__init__()\n",
    "        \n",
    "        # Action space: discrete actions to adjust heading (left or right)\n",
    "        self.action_space = spaces.Discrete(3)  # 0 = turn left, 1 = maintain heading, 2 = turn right\n",
    "        \n",
    "        # Observation space: [heading, bearing_to_target, distance_to_target]\n",
    "        self.observation_space = spaces.Box(low=-np.inf, high=np.inf, shape=(3,), dtype=np.float32)\n",
    "        \n",
    "        self.start_wp = np.array(start_wp)\n",
    "        self.tgt_wp = np.array(tgt_wp)\n",
    "        self.current_position = np.array(initial_position)\n",
    "        self.heading = initial_heading\n",
    "        \n",
    "        # Bearing and distance to the target waypoint\n",
    "        self.bearing_to_target = self.calculate_bearing(self.current_position, self.tgt_wp)\n",
    "        self.distance_to_target = self.calculate_distance(self.current_position, self.tgt_wp)\n",
    "        self.initial_course = self.calculate_bearing(self.start_wp, self.tgt_wp)\n",
    "        \n",
    "    def step(self, action):\n",
    "        \n",
    "        if np.abs(self.heading - self.initial_course) >= 20:\n",
    "            value = 10\n",
    "        elif np.abs(self.heading - self.initial_course) >= 5:\n",
    "            value = 5\n",
    "        else:\n",
    "            value = 1\n",
    "        \n",
    "        # Adjust the heading based on the action\n",
    "        if action == 0:\n",
    "            self.heading -= value  # Turn left by 1 degree\n",
    "        elif action == 2:\n",
    "            self.heading += value  # Turn right by 1 degree\n",
    "\n",
    "        if self.heading < 0:\n",
    "            self.heading += 360\n",
    "        \n",
    "        # Update the ASV position based on the current heading (this is simplified)\n",
    "        self.current_position = self.update_position(self.current_position, self.heading)\n",
    "        \n",
    "        # Recalculate the distance and bearing to the target\n",
    "        self.bearing_to_target = self.calculate_bearing(self.current_position, self.tgt_wp)\n",
    "        self.distance_to_target = self.calculate_distance(self.current_position, self.tgt_wp)\n",
    "        \n",
    "        # Reward is based on reducing the distance and keeping the course close to the initial course\n",
    "        bearing_diff = abs(self.bearing_to_target - self.initial_course)\n",
    "        reward = -self.distance_to_target - bearing_diff\n",
    "        \n",
    "        # Done if the ASV is very close to the target waypoint\n",
    "        done = self.distance_to_target < 0.01\n",
    "        \n",
    "        # State: [heading, bearing_to_target, distance_to_target]\n",
    "        state = np.array([self.heading, self.bearing_to_target, self.distance_to_target, self.current_position[0], self.current_position[1]])\n",
    "        \n",
    "        return state, reward, done, {}\n",
    "    \n",
    "    def reset(self, initial_position, initial_heading):\n",
    "        # Reset the environment for a new episode\n",
    "        self.current_position = np.array(initial_position)  # Reset to starting waypoint\n",
    "        self.heading = initial_heading  # Reset heading to the course between start_wp and tgt_wp\n",
    "        \n",
    "        # Recalculate distance and bearing\n",
    "        self.bearing_to_target = self.calculate_bearing(self.current_position, self.tgt_wp)\n",
    "        self.distance_to_target = self.calculate_distance(self.current_position, self.tgt_wp)\n",
    "        \n",
    "        # State: [heading, bearing_to_target, distance_to_target]\n",
    "        return np.array([self.heading, self.bearing_to_target, self.distance_to_target, self.current_position[0], self.current_position[1]])\n",
    "    \n",
    "    def calculate_distance(self, current_position, target_position):\n",
    "        return mercator_sailing(*current_position, *target_position)\n",
    "    \n",
    "    def calculate_bearing(self, current_position, target_position):\n",
    "        return bearing_to_waypoint(*current_position, *target_position)\n",
    "    \n",
    "    def update_position(self, position, heading, speed=14, time_interval=1/60):\n",
    "        # Update position based on heading (simplified movement for demonstration)\n",
    "        # time.sleep(1)\n",
    "        lat, lon = position\n",
    "        # heading_rad = np.radians(heading)\n",
    "        \n",
    "        # delta_lat = speed * time_interval * np.cos(heading_rad)\n",
    "        # delta_lon = speed * time_interval * np.sin(heading_rad)\n",
    "        \n",
    "        # return np.array([lat + delta_lat, lon + delta_lon])\n",
    "        return mercator_sailing_future_position(lat, lon, speed, heading, time_interval)\n",
    "\n",
    "# Define the Q-Learning Algorithm\n",
    "def deterministic_policy(env):\n",
    "    state = env.reset()\n",
    "    done = False\n",
    "    total_reward = 0\n",
    "\n",
    "    while not done:\n",
    "        # Get the current heading, bearing to target, and distance to target\n",
    "        heading, bearing_to_target, distance_to_target = state\n",
    "\n",
    "        # Determine the action based on the difference between current bearing and initial course\n",
    "        if bearing_to_target < env.initial_course - 1:\n",
    "            action = 0  # Turn left\n",
    "        elif bearing_to_target > env.initial_course + 1:\n",
    "            action = 2  # Turn right\n",
    "        else:\n",
    "            action = 1  # Maintain heading\n",
    "\n",
    "        # Take the action in the environment\n",
    "        next_state, reward, done, _ = env.step(action)\n",
    "        total_reward += reward\n",
    "        state = next_state\n",
    "\n",
    "    return total_reward"
   ],
   "outputs": []
  },
  {
   "cell_type": "code",
   "execution_count": 98,
   "id": "63b91357-97e3-4654-afba-3718724ed4b6",
   "metadata": {},
   "source": [
    "start_wp = [0, 0]\n",
    "tgt_wp = [0.2, 0.2]\n",
    "asv_psn = [0.00, 0.05]\n",
    "asv_hdg = 340\n",
    "env = ShipEnv(start_wp, tgt_wp, asv_psn, asv_hdg)\n",
    "\n",
    "# Run the deterministic policy\n",
    "state = env.reset(asv_psn, asv_hdg)\n",
    "done = False\n",
    "total_reward = 0\n",
    "plt.plot([start_wp[1], tgt_wp[1]], [start_wp[0], tgt_wp[0]])\n",
    "# while not done:\n",
    "for i in range(100):\n",
    "    # Get the current heading, bearing to target, and distance to target\n",
    "    heading, bearing_to_target, distance_to_target, lat, lon = state\n",
    "    # Determine the action based on the difference between bearing to tgt and heading\n",
    "    \n",
    "    if bearing_to_target < heading - 1:\n",
    "        action = 0  # Turn left\n",
    "    elif bearing_to_target > heading + 1:\n",
    "        action = 2  # Turn right\n",
    "    else:\n",
    "        action = 1  # Maintain heading\n",
    "    # Take the action in the environment\n",
    "    next_state, reward, done, _ = env.step(action)\n",
    "    total_reward += reward\n",
    "    state = next_state\n",
    "    plt.scatter(lon, lat)\n",
    "    # print(f\"State: {state}, Reward: {reward}, Done: {done}\")\n",
    "    # time.sleep(1)\n",
    "plt.show()\n",
    "print(f\"Total reward after following the policy: {total_reward}\")"
   ],
   "outputs": []
  },
  {
   "cell_type": "code",
   "execution_count": 31,
   "id": "1082743d-bfbc-4854-9e2d-8b521211dc95",
   "metadata": {
    "collapsed": true,
    "jupyter": {
     "outputs_hidden": true
    },
    "scrolled": true
   },
   "source": [
    "# Example usage\n",
    "start_wp = [0, 0]\n",
    "tgt_wp = [0.2, -0.1]\n",
    "asv_psn = [0.01, -0.01]\n",
    "asv_hdg = 300\n",
    "\n",
    "env = ShipEnv(start_wp, tgt_wp, asv_psn, asv_hdg)\n",
    "\n",
    "state = env.reset()\n",
    "done = False\n",
    "\n",
    "while not done:\n",
    "    action = env.action_space.sample()  # Random action for testing\n",
    "    state, reward, done, _ = env.step(action)\n",
    "    print(f\"State: {state}, Reward: {reward}, Done: {done}\")"
   ],
   "outputs": []
  },
  {
   "cell_type": "code",
   "execution_count": 91,
   "id": "8d0c1e34-9d26-466f-8d2b-97568d7f309f",
   "metadata": {},
   "source": [
    "np.sin(10)"
   ],
   "outputs": []
  },
  {
   "cell_type": "code",
   "execution_count": 21,
   "id": "b4107374-8f2b-489e-b1ec-6fed7339fd09",
   "metadata": {},
   "source": [
    "2.19e-01"
   ],
   "outputs": []
  },
  {
   "cell_type": "code",
   "execution_count": null,
   "id": "8edc64c1-389a-4c8b-80aa-cb99eefefa18",
   "metadata": {},
   "source": [],
   "outputs": []
  }
 ],
 "metadata": {
  "kernelspec": {
   "display_name": "Python 3 (ipykernel)",
   "language": "python",
   "name": "python3"
  },
  "language_info": {
   "codemirror_mode": {
    "name": "ipython",
    "version": 3
   },
   "file_extension": ".py",
   "mimetype": "text/x-python",
   "name": "python",
   "nbconvert_exporter": "python",
   "pygments_lexer": "ipython3",
   "version": "3.8.20"
  }
 },
 "nbformat": 4,
 "nbformat_minor": 5
}
